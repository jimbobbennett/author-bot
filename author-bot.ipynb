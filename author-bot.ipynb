{
 "cells": [
  {
   "attachments": {},
   "cell_type": "markdown",
   "metadata": {},
   "source": [
    "# Author Bot\n",
    "\n",
    "A helper to support you when writing a book!\n",
    "\n",
    "You will need an OpenAI API key, which you can get from [OpenAI.com](https://openai.com). Create a `.env` file by renaming the existing `.env.example` to `.env`, then set the value of `OPENAI_KEY` to your OpenAI key."
   ]
  },
  {
   "cell_type": "code",
   "execution_count": 44,
   "metadata": {},
   "outputs": [
    {
     "name": "stdout",
     "output_type": "stream",
     "text": [
      "The dotenv extension is already loaded. To reload it, use:\n",
      "  %reload_ext dotenv\n"
     ]
    }
   ],
   "source": [
    "# Load the OpenAI key from the .env file\n",
    "%load_ext dotenv\n",
    "%dotenv\n",
    "\n",
    "import os\n",
    "OPENAI_KEY = os.environ['OPENAI_KEY']"
   ]
  },
  {
   "attachments": {},
   "cell_type": "markdown",
   "metadata": {},
   "source": [
    "Set the screen width when showing the text - if the text wraps in the output window, make this number smaller."
   ]
  },
  {
   "cell_type": "code",
   "execution_count": 45,
   "metadata": {},
   "outputs": [],
   "source": [
    "SCREEN_WIDTH=250"
   ]
  },
  {
   "attachments": {},
   "cell_type": "markdown",
   "metadata": {},
   "source": [
    "Create the OpenAI chat completion object."
   ]
  },
  {
   "cell_type": "code",
   "execution_count": 46,
   "metadata": {},
   "outputs": [
    {
     "name": "stdout",
     "output_type": "stream",
     "text": [
      "gpt-4\n",
      "gpt-4-0613\n",
      "gpt-3.5-turbo-0613\n",
      "gpt-3.5-turbo\n",
      "gpt-4-0314\n",
      "gpt-3.5-turbo-0301\n",
      "gpt-3.5-turbo-16k\n",
      "gpt-3.5-turbo-16k-0613\n"
     ]
    }
   ],
   "source": [
    "import openai\n",
    "\n",
    "# Load your API key from an environment variable or secret management service\n",
    "openai.api_key = OPENAI_KEY\n",
    "\n",
    "# If you are using Azure OpenAI service, uncomment the next few lines fill in the details\n",
    "# openai.api_base = os.getenv(\"AZURE_OPENAI_ENDPOINT\")\n",
    "# openai.api_type = 'azure'\n",
    "# openai.api_version = '2023-05-15'\n",
    "\n",
    "# list models\n",
    "models = openai.Model.list()\n",
    "for model in (m for m in models['data'] if 'gpt' in m['id']):\n",
    "    print(model['id'])\n",
    "\n",
    "# Select the GPT-4 model\n",
    "MODEL = 'gpt-4'"
   ]
  },
  {
   "attachments": {},
   "cell_type": "markdown",
   "metadata": {},
   "source": [
    "Create the system prompt. The system prompt provides basic guidance for the chat completions API to use for all requests. The system prompt is sent to the API as a message of type `system`.\n",
    "\n",
    "In this case the system prompt defines the genre and the audience for the book. This system prompt is added to a list of messages."
   ]
  },
  {
   "cell_type": "code",
   "execution_count": 47,
   "metadata": {},
   "outputs": [],
   "source": [
    "genre = 'science fiction'\n",
    "# genre = 'fantasy'\n",
    "# genre = 'horror'\n",
    "# genre = 'romance'\n",
    "# genre = 'mystery'\n",
    "# genre = 'thriller'\n",
    "# genre = 'western'\n",
    "# genre = 'drama'\n",
    "# genre = 'comedy'\n",
    "# genre = 'action'\n",
    "# genre = 'adventure'\n",
    "# genre = 'historical fiction'\n",
    "# genre = 'literary fiction'\n",
    "\n",
    "audience = 'adults'\n",
    "# audience = 'teenagers'\n",
    "# audience = 'children'\n",
    "\n",
    "system_prompt_message = {\n",
    "    'role': 'system',\n",
    "    'content': f'You are a bot designed to help an author write a best selling book. The author is writing a {genre} book for {audience}. This book should be cheesy and pulpy to target the widest possible audience'\n",
    "}"
   ]
  },
  {
   "attachments": {},
   "cell_type": "markdown",
   "metadata": {},
   "source": [
    "Now we have the system prompt, we can use a chat completion to get a selection of possible plots for the book."
   ]
  },
  {
   "cell_type": "code",
   "execution_count": 58,
   "metadata": {},
   "outputs": [],
   "source": [
    "import json\n",
    "\n",
    "plot_request_message = {\n",
    "    'role': 'user',\n",
    "    'content': 'Provide 3 possible plots for the book. Output the plots along with between 3 and 5 main characters as JSON in the following format: [{ \"plot\" : \"plot\", \"characters\" : [{\"name\", \"character full name\", \"occupation\", \"character occupation\"}]}]. Do not start the plot with the plot number.'\n",
    "}\n",
    "\n",
    "messages = [\n",
    "    system_prompt_message,\n",
    "    plot_request_message\n",
    "]\n",
    "\n",
    "chat_completion = openai.ChatCompletion.create(model=MODEL, messages=messages)\n",
    "\n",
    "# Sometimes the response has the JSON with the json keys with the first letter capitalized, so normalize on lowercase\n",
    "def normalize_json_keys(json_dict):\n",
    "    result = {}\n",
    "    for key in json_dict.keys():\n",
    "        result[key.lower()] = json_dict[key]\n",
    "    return result\n",
    "\n",
    "def load_openai_json(json_string):\n",
    "    loaded = json.loads(json_string)\n",
    "\n",
    "    # if loaded is a list, then it is a list of JSON strings, so load each one\n",
    "    if isinstance(loaded, list):\n",
    "        return [normalize_json_keys(item) for item in loaded]\n",
    "    \n",
    "    return normalize_json_keys(loaded)\n",
    "    \n",
    "\n",
    "book_ideas = load_openai_json(chat_completion.choices[0].message.content)"
   ]
  },
  {
   "attachments": {},
   "cell_type": "markdown",
   "metadata": {},
   "source": [
    "The `chat_completion` returns the result containing the response as an `assistant` message, in the JSON format we specified."
   ]
  },
  {
   "cell_type": "code",
   "execution_count": 53,
   "metadata": {},
   "outputs": [
    {
     "name": "stdout",
     "output_type": "stream",
     "text": [
      "Plot:\n",
      "\n",
      "In a world where time travel has become an everyday occurrence, formidable corporations compete for time territory and historical events. When the TimeRift Corporation starts losing its hold, a brave and slightly silly team of four is dispatched to\n",
      "the most pivotal moments in history, from the discovery of fire to the Shakespearean era. Their mission? Prevent calamitous temporal shifts and restore TimeRift's temporal supremacy, all while trying to cope with the surprises history has in store\n",
      "for them.\n",
      "\n",
      "Characters:\n",
      "\n",
      "Edison Flux - Temporal Engineer\n",
      "Frida Quantum - Chrono Historian\n",
      "Harvey Relativity - Time Negotiator\n",
      "Bellatrix Paradox - Temporal Field Operative\n",
      "\n",
      "Plot:\n",
      "\n",
      "Following contact with an alien civilization, humanity has been given a seemingly useless device that only produces a strange, foul-smelling cheese. However, when a trio of underdog scientists discovers the cheese has the power to fuel a new form of\n",
      "clean, limitless energy, they must race against time, bureaucracy, and a paranoid government to bring this gift from the stars to the world.\n",
      "\n",
      "Characters:\n",
      "\n",
      "Felicity Fermi - Astrophysicist\n",
      "Maxwell Gouda - Cheese Enthusiast/Cryptographer\n",
      "Alice Ampere - Electrical Engineer\n",
      "\n",
      "Plot:\n",
      "\n",
      "In a dimension where thoughts and ideas take on physical form, a crew of brain miners explore the outer edges of neural space, hunting for original and impressive ideas. However, when they stumble upon an idea supernova, they become the targets of\n",
      "thought pirates seeking to steal their precious cargo. Embarking on a high-energy escapade across the cerebral universe, they fight to protect what could be their biggest haul yet.\n",
      "\n",
      "Characters:\n",
      "\n",
      "Vyvyan Synapse - Brain Miner Captain\n",
      "Eleanor Memoria - Thought Cartographer\n",
      "Zephram Cranium - Cerebral Security Officer\n",
      "Anouk Nerve - Idea Hunter\n",
      "Dr. Francis Cerebrum - Neurologist/ Ship's Doctor\n",
      "\n"
     ]
    }
   ],
   "source": [
    "\n",
    "import textwrap\n",
    "\n",
    "def print_book_idea(book_idea):\n",
    "    print('Plot:')\n",
    "    print('')\n",
    "    print(textwrap.fill(book_idea['plot'], width=SCREEN_WIDTH, replace_whitespace=False))\n",
    "    print('')\n",
    "    print('Characters:')\n",
    "    print('')\n",
    "    for character in book_idea['characters']:\n",
    "        print(f'{character[\"name\"]} - {character[\"occupation\"]}')\n",
    "    print('')\n",
    "\n",
    "for book_idea in book_ideas:\n",
    "    print_book_idea(book_idea)"
   ]
  },
  {
   "attachments": {},
   "cell_type": "markdown",
   "metadata": {},
   "source": [
    "Now we have our ideas, let's select one and run with it. In the next cell, set the index from 0-2 of the book idea you want to work on into the `SELECTED_BOOK_IDEA` constant."
   ]
  },
  {
   "cell_type": "code",
   "execution_count": 54,
   "metadata": {},
   "outputs": [
    {
     "name": "stdout",
     "output_type": "stream",
     "text": [
      "Plot:\n",
      "\n",
      "In a dimension where thoughts and ideas take on physical form, a crew of brain miners explore the outer edges of neural space, hunting for original and impressive ideas. However, when they stumble upon an idea supernova, they become the targets of\n",
      "thought pirates seeking to steal their precious cargo. Embarking on a high-energy escapade across the cerebral universe, they fight to protect what could be their biggest haul yet.\n",
      "\n",
      "Characters:\n",
      "\n",
      "Vyvyan Synapse - Brain Miner Captain\n",
      "Eleanor Memoria - Thought Cartographer\n",
      "Zephram Cranium - Cerebral Security Officer\n",
      "Anouk Nerve - Idea Hunter\n",
      "Dr. Francis Cerebrum - Neurologist/ Ship's Doctor\n",
      "\n"
     ]
    }
   ],
   "source": [
    "import random\n",
    "\n",
    "SELECTED_BOOK_IDEA = random.randint(0, len(book_ideas) - 1)\n",
    "\n",
    "book_idea = book_ideas[SELECTED_BOOK_IDEA]\n",
    "\n",
    "print_book_idea(book_idea)"
   ]
  },
  {
   "attachments": {},
   "cell_type": "markdown",
   "metadata": {},
   "source": [
    "Now we have the plot and the characters, we can put these into the system message so any follow up completions are based on this."
   ]
  },
  {
   "cell_type": "code",
   "execution_count": 55,
   "metadata": {},
   "outputs": [
    {
     "name": "stdout",
     "output_type": "stream",
     "text": [
      "The book has the following plot: \"In a dimension where thoughts and ideas take on physical form, a crew of brain miners explore the outer edges of neural space, hunting for original and impressive ideas. However, when they stumble upon an idea\n",
      "supernova, they become the targets of thought pirates seeking to steal their precious cargo. Embarking on a high-energy escapade across the cerebral universe, they fight to protect what could be their biggest haul yet.\".\n",
      "The book has the following characters: Vyvyan Synapse who is a Brain Miner Captain, Eleanor Memoria who is a Thought Cartographer, Zephram Cranium who is a Cerebral Security Officer, Anouk Nerve who is a Idea Hunter, Dr. Francis Cerebrum who is a\n",
      "Neurologist/ Ship's Doctor.\n"
     ]
    }
   ],
   "source": [
    "book_plot = book_idea['plot']\n",
    "\n",
    "book_details_message = { 'role': 'assistant', 'content': f'The book has the following plot: \"{book_plot}\".' }\n",
    "\n",
    "book_characters = 'The book has the following characters: '\n",
    "for character in book_idea['characters']:\n",
    "    book_characters += f'{character[\"name\"]} who is a {character[\"occupation\"]}, '\n",
    "\n",
    "book_characters = book_characters[:-2] + '.'\n",
    "\n",
    "book_characters_message = { 'role': 'assistant', 'content': book_characters }\n",
    "\n",
    "print(textwrap.fill(book_details_message['content'], width=SCREEN_WIDTH, replace_whitespace=False))\n",
    "print(textwrap.fill(book_characters_message['content'], width=SCREEN_WIDTH, replace_whitespace=False))"
   ]
  },
  {
   "attachments": {},
   "cell_type": "markdown",
   "metadata": {},
   "source": [
    "Now we can expand on the plot by asking for a longer plot."
   ]
  },
  {
   "cell_type": "code",
   "execution_count": 60,
   "metadata": {},
   "outputs": [
    {
     "name": "stdout",
     "output_type": "stream",
     "text": [
      "Title: Neural Nomads: Mining the Mind Galaxy\n",
      "\n",
      "Plot Summary:\n",
      "\n",
      "In the vast expanse of the cerebral cosmos where thoughts take physical form, a quirky crew of Brain Miners led by Captain Vyvyan Synapse embarks on an adventure. They stumble upon a supernova of revolutionary ideas, triggering a chain of chaotic\n",
      "events. Seeking to capitalize on this discovery, Eleanor Memoria, their Thought Cartographer, turns rogue. Unveiling her secret allegiance to a legion of intellectual pirates, Eleanor throws the crew into turmoil. Now embroiled in a battle for their\n",
      "minds, the Miners unite to safeguard their cargo against Eleanor's seedy syndicate and traverse the treacherous neural space to their mindport. Will they outsmart the villainous memory maestro and protect the universal pool of ideas from corruption?\n",
      "\n",
      "Villain: Eleanor Memoria\n"
     ]
    }
   ],
   "source": [
    "messages = [\n",
    "    system_prompt_message,\n",
    "    book_details_message,\n",
    "    book_characters_message,\n",
    "    { 'role': 'user', 'content': 'Come up with a catchy title for this book, then write a 1000 character plot summary of the book. Make one of the characters a villain. Output as JSON in the following format\" { \"title\": \"title\", \"plot_summary\" : \"plot summary\", \"villain\", \"Name of the villain\"}'}\n",
    "]\n",
    "\n",
    "chat_completion = openai.ChatCompletion.create(model=MODEL, messages=messages)\n",
    "print(textwrap.fill(chat_completion.choices[0].message.content, width=SCREEN_WIDTH, replace_whitespace=False))\n",
    "\n",
    "# Extract the title, plot summary and villain from the response\n",
    "response = load_openai_json(chat_completion.choices[0].message.content)\n",
    "book_title = response['title']\n",
    "book_plot_summary = response['plot_summary']\n",
    "book_villain = response['villain']\n",
    "\n",
    "print(f'Title: {book_title}')\n",
    "print('')\n",
    "print('Plot Summary:')\n",
    "print('')\n",
    "print(textwrap.fill(book_plot_summary, width=SCREEN_WIDTH, replace_whitespace=False))\n",
    "print('')\n",
    "print(f'Villain: {book_villain}')"
   ]
  },
  {
   "attachments": {},
   "cell_type": "markdown",
   "metadata": {},
   "source": [
    "We can now use this plot to ask for detailed character biographies, along with any details of their relationships to each other. We start by adding the output as an assistant message."
   ]
  },
  {
   "cell_type": "code",
   "execution_count": 62,
   "metadata": {},
   "outputs": [],
   "source": [
    "# Rebuild the book details message with the new plot summary\n",
    "book_details_message = { 'role': 'assistant', 'content': f'The book is called {book_title} has the following plot: \"{book_plot_summary}\".' }\n",
    "book_characters_message = { 'role': 'assistant', 'content': f'{book_characters}. {book_villain} is the villain in this story.' }\n",
    "\n",
    "messages = [\n",
    "    system_prompt_message,\n",
    "    book_details_message,\n",
    "    book_characters_message,\n",
    "    { 'role': 'user', 'content': 'Write a 500 character biography for each of the character, including if they have any relationships to each other. Also write a 500 character visual description. Output as JSON in the following format\" { \"name\": \"name\", \"occupation\" : \"occupation\", \"biography\", \"biography\", \"description\": \"visual description\"}'}\n",
    "]\n",
    "\n",
    "# Generate the character biographies\n",
    "chat_completion = openai.ChatCompletion.create(model=MODEL, messages=messages)\n",
    "print(textwrap.fill(chat_completion.choices[0].message.content, width=SCREEN_WIDTH, replace_whitespace=False))\n",
    "\n",
    "# Capture the response\n",
    "character_response = load_openai_json(chat_completion.choices[0].message.content)"
   ]
  },
  {
   "attachments": {},
   "cell_type": "markdown",
   "metadata": {},
   "source": [
    "Now we can start creating the outline of the book using all the details we have."
   ]
  },
  {
   "cell_type": "code",
   "execution_count": 83,
   "metadata": {},
   "outputs": [
    {
     "name": "stdout",
     "output_type": "stream",
     "text": [
      "[\n",
      "  {\n",
      "    \"chapter\": \"Chapter 1\",\n",
      "    \"chapter_name\": \"First Synapse Strike\",\n",
      "    \"summary\": \"Captain Synapse gathers his unique team for the voyage into the mind cosmos, discovering their first idea supernova.\"\n",
      "  },\n",
      "  {\n",
      "    \"chapter\": \"Chapter 2\",\n",
      "\"chapter_name\": \"Metaphysical Mapping\",\n",
      "    \"summary\": \"Eleanor's capabilities as a Thought Cartographer come into view; she traces the magnified metaphysics of mindspace.\"\n",
      "  },\n",
      "  {\n",
      "    \"chapter\": \"Chapter 3\",\n",
      "    \"chapter_name\": \"Idea Inception\",\n",
      "\"summary\": \"Anouk's first hunt as an Idea Hunter results in a unique concept that could revolutionize the cerebroverse.\"\n",
      "  },\n",
      "  {\n",
      "    \"chapter\": \"Chapter 4\",\n",
      "    \"chapter_name\": \"Quantum Quackery\",\n",
      "    \"summary\": \"A mysterious disease affects the\n",
      "shipmates. Dr. Cerebrum's expertise and innovative thinking save the day.\"\n",
      "  },\n",
      "  {\n",
      "    \"chapter\": \"Chapter 5\",\n",
      "    \"chapter_name\": \"Neural Nebulas\",\n",
      "    \"summary\": \"The crew’s journey takes them through the hypnotizing Neural Nebulas. Zephram's\n",
      "vigilance is put to the test.\"\n",
      "  },\n",
      "  {\n",
      "    \"chapter\": \"Chapter 6\",\n",
      "    \"chapter_name\": \"Eleanor's Enigma\",\n",
      "    \"summary\": \"Hints of Eleanor's alignment with intellectual pirates reveal a dark plot. Eleanor’s true purpose begins to unfold.\"\n",
      "  },\n",
      "  {\n",
      "\"chapter\": \"Chapter 7\",\n",
      "    \"chapter_name\": \"Betrayal in the Brainwaves\",\n",
      "    \"summary\": \"Eleanor’s betrayal sends jolts through the crew. Emotional chaos ensues as the team struggles to regroup.\"\n",
      "  },\n",
      "  {\n",
      "    \"chapter\": \"Chapter 8\",\n",
      "\"chapter_name\": \"Commander's Crisis\",\n",
      "    \"summary\": \"Vyvyan battles personal demons as he grapples with Eleanor’s betrayal. His leadership is tested.\"\n",
      "  },\n",
      "  {\n",
      "    \"chapter\": \"Chapter 9\",\n",
      "    \"chapter_name\": \"Memory Maze\",\n",
      "    \"summary\": \"The team\n",
      "navigates the convoluted Memory Maze while fending off attacks from Eleanor’s cerebral cronies.\"\n",
      "  },\n",
      "  {\n",
      "    \"chapter\": \"Chapter 10\",\n",
      "    \"chapter_name\": \"Cranium's Courage\",\n",
      "    \"summary\": \"Zephram leads a counterattack against the intellectual\n",
      "pirates as battle consummates in the mind galaxy.\"\n",
      "  },\n",
      "  {\n",
      "    \"chapter\": \"Chapter 11\",\n",
      "    \"chapter_name\": \"Synaptic Standoff\",\n",
      "    \"summary\": \"The crew finds themselves surrounded by Eleanor’s pirates but they stand their ground, guard their\n",
      "cargo.\"\n",
      "  },\n",
      "  {\n",
      "    \"chapter\": \"Chapter 12\",\n",
      "    \"chapter_name\": \"Ideal Inspiration\",\n",
      "    \"summary\": \"Anouk’s discovery serves as motivation. She devises an unconventional solution to outwit Eleanor.\"\n",
      "  },\n",
      "  {\n",
      "    \"chapter\": \"Chapter 13\",\n",
      "\"chapter_name\": \"Cerebrum's Consultation\",\n",
      "    \"summary\": \"Dr. Cerebrum has an emotional confrontation with Eleanor, tries persuading her to reconsider her destructive path.\"\n",
      "  },\n",
      "  {\n",
      "    \"chapter\": \"Chapter 14\",\n",
      "    \"chapter_name\": \"Cognitive\n",
      "Chaos\",\n",
      "    \"summary\": \"A battle of wits ensues as the crew and the pirates clash. The cerebral cosmos is thrown into chaos.\"\n",
      "  },\n",
      "  {\n",
      "    \"chapter\": \"Chapter 15\",\n",
      "    \"chapter_name\": \"Synapse's Sacrifice\",\n",
      "    \"summary\": \"Vyvyan makes a selfless\n",
      "decision to save his crew, showing true valor and leadership.\"\n",
      "  },\n",
      "  {\n",
      "    \"chapter\": \"Chapter 16\",\n",
      "    \"chapter_name\": \"Eleanor's Exile\",\n",
      "    \"summary\": \"The crew outsmarts Eleanor, exiling her into the Forgotten Folds of the brain.\"\n",
      "  },\n",
      "  {\n",
      "\"chapter\": \"Chapter 17\",\n",
      "    \"chapter_name\": \"Mindful Mourning\",\n",
      "    \"summary\": \"The crew mourns the loss of Eleanor to the uncharted realms, comes to terms with their emotional turmoil.\"\n",
      "  },\n",
      "  {\n",
      "    \"chapter\": \"Chapter 18\",\n",
      "    \"chapter_name\":\n",
      "\"Intellectual Innovation\",\n",
      "    \"summary\": \"Anouk's unique concept is finally mined. It revolutionizes the cerebroverse, celebrating the power of ideas.\"\n",
      "  },\n",
      "  {\n",
      "    \"chapter\": \"Chapter 19\",\n",
      "    \"chapter_name\": \"Cerebral Celebration\",\n",
      "    \"summary\":\n",
      "\"In the aftermath, the crew celebrates their victory and cherishes the value of unity and intellectual integrity.\"\n",
      "  },\n",
      "  {\n",
      "    \"chapter\": \"Chapter 20\",\n",
      "    \"chapter_name\": \"Epilogue: Beyond the Brain's Horizon\",\n",
      "    \"summary\": \"With newfound\n",
      "resolve, the crew forges ahead, ready to face more mind adventures in the yet unexplored cerebroverse.\"\n",
      "  }\n",
      "]\n"
     ]
    }
   ],
   "source": [
    "# Rebuild the character details message with the new details\n",
    "book_characters = f'The book has the following characters:\\n'\n",
    "\n",
    "character_count = 1\n",
    "\n",
    "for character in character_response:\n",
    "    if character['name'] == book_villain:\n",
    "        book_characters += f'{character_count}. {character[\"name\"]} who is a {character[\"occupation\"]}, and is the villain in this story. {character[\"biography\"]} {character[\"description\"]}\\n'\n",
    "    else:\n",
    "        book_characters += f'{character_count}. {character[\"name\"]} who is a {character[\"occupation\"]}. {character[\"biography\"]} {character[\"description\"]}\\n'\n",
    "    character_count += 1\n",
    "\n",
    "book_characters_message = { 'role': 'assistant', 'content': f'{book_characters[:-1]}' }\n",
    "\n",
    "messages = [\n",
    "    system_prompt_message,\n",
    "    book_details_message,\n",
    "    book_characters_message,\n",
    "    { 'role': 'user', 'content': 'Create 20 chapters for the book, with a chapter name and a 200 character detailed summary for each chapter. Return a JSON array in the following format\" { \"chapter\": \"chapter\", \"chapter_name\" : \"chapter name\", \"summary\" : \"summary\"}. Just return JSON and no prose'}\n",
    "]\n",
    "\n",
    "chat_completion = openai.ChatCompletion.create(model=MODEL, messages=messages)\n",
    "print(textwrap.fill(chat_completion.choices[0].message.content, width=SCREEN_WIDTH, replace_whitespace=False))\n",
    "\n",
    "# Capture the response\n",
    "chapter_response = load_openai_json(chat_completion.choices[0].message.content)"
   ]
  },
  {
   "attachments": {},
   "cell_type": "markdown",
   "metadata": {},
   "source": [
    "Build the chapters into the prompt"
   ]
  },
  {
   "cell_type": "code",
   "execution_count": 86,
   "metadata": {},
   "outputs": [
    {
     "name": "stdout",
     "output_type": "stream",
     "text": [
      "The book has the following chapters:\n",
      "Chapter 1, First Synapse Strike. Captain Synapse gathers his unique team for the voyage into the mind cosmos, discovering their first idea supernova.\n",
      "Chapter 2, Metaphysical Mapping. Eleanor's capabilities as a Thought Cartographer come into view; she traces the magnified metaphysics of mindspace.\n",
      "Chapter 3, Idea Inception. Anouk's first hunt as an Idea Hunter results in a unique concept that could revolutionize the cerebroverse.\n",
      "Chapter 4, Quantum Quackery. A mysterious disease affects the shipmates. Dr. Cerebrum's expertise and innovative thinking save the day.\n",
      "Chapter 5, Neural Nebulas. The crew’s journey takes them through the hypnotizing Neural Nebulas. Zephram's vigilance is put to the test.\n",
      "Chapter 6, Eleanor's Enigma. Hints of Eleanor's alignment with intellectual pirates reveal a dark plot. Eleanor’s true purpose begins to unfold.\n",
      "Chapter 7, Betrayal in the Brainwaves. Eleanor’s betrayal sends jolts through the crew. Emotional chaos ensues as the team struggles to regroup.\n",
      "Chapter 8, Commander's Crisis. Vyvyan battles personal demons as he grapples with Eleanor’s betrayal. His leadership is tested.\n",
      "Chapter 9, Memory Maze. The team navigates the convoluted Memory Maze while fending off attacks from Eleanor’s cerebral cronies.\n",
      "Chapter 10, Cranium's Courage. Zephram leads a counterattack against the intellectual pirates as battle consummates in the mind galaxy.\n",
      "Chapter 11, Synaptic Standoff. The crew finds themselves surrounded by Eleanor’s pirates but they stand their ground, guard their cargo.\n",
      "Chapter 12, Ideal Inspiration. Anouk’s discovery serves as motivation. She devises an unconventional solution to outwit Eleanor.\n",
      "Chapter 13, Cerebrum's Consultation. Dr. Cerebrum has an emotional confrontation with Eleanor, tries persuading her to reconsider her destructive path.\n",
      "Chapter 14, Cognitive Chaos. A battle of wits ensues as the crew and the pirates clash. The cerebral cosmos is thrown into chaos.\n",
      "Chapter 15, Synapse's Sacrifice. Vyvyan makes a selfless decision to save his crew, showing true valor and leadership.\n",
      "Chapter 16, Eleanor's Exile. The crew outsmarts Eleanor, exiling her into the Forgotten Folds of the brain.\n",
      "Chapter 17, Mindful Mourning. The crew mourns the loss of Eleanor to the uncharted realms, comes to terms with their emotional turmoil.\n",
      "Chapter 18, Intellectual Innovation. Anouk's unique concept is finally mined. It revolutionizes the cerebroverse, celebrating the power of ideas.\n",
      "Chapter 19, Cerebral Celebration. In the aftermath, the crew celebrates their victory and cherishes the value of unity and intellectual integrity.\n",
      "Chapter 20, Epilogue: Beyond the Brain's Horizon. With newfound resolve, the crew forges ahead, ready to face more mind adventures in the yet unexplored cerebroverse.\n",
      "\n"
     ]
    }
   ],
   "source": [
    "book_chapters = f'The book has the following chapters:\\n'\n",
    "\n",
    "for chapter in chapter_response:\n",
    "    book_chapters += f'{chapter[\"chapter\"]}, {chapter[\"chapter_name\"]}. {chapter[\"summary\"]}\\n'\n",
    "\n",
    "book_chapters_message = { 'role': 'assistant', 'content': f'{book_chapters[:-1]}' }\n",
    "print(book_chapters)"
   ]
  },
  {
   "attachments": {},
   "cell_type": "markdown",
   "metadata": {},
   "source": [
    "We have a lot of data! ChatGPT has limits on tokens, so we need to see how many tokens we have so far."
   ]
  },
  {
   "cell_type": "code",
   "execution_count": 87,
   "metadata": {},
   "outputs": [
    {
     "name": "stdout",
     "output_type": "stream",
     "text": [
      "Warning: gpt-4 may update over time. Returning num tokens assuming gpt-4-0613.\n",
      "Tokens used: 1363, max tokens: 8192, remaining: 6829\n"
     ]
    }
   ],
   "source": [
    "import tiktoken\n",
    "\n",
    "def num_tokens_from_messages(messages, model):\n",
    "    \"\"\"Return the number of tokens used by a list of messages.\"\"\"\n",
    "    try:\n",
    "        encoding = tiktoken.encoding_for_model(model)\n",
    "    except KeyError:\n",
    "        print(\"Warning: model not found. Using cl100k_base encoding.\")\n",
    "        encoding = tiktoken.get_encoding(\"cl100k_base\")\n",
    "    if model in {\n",
    "        \"gpt-3.5-turbo-0613\",\n",
    "        \"gpt-3.5-turbo-16k-0613\",\n",
    "        \"gpt-4-0314\",\n",
    "        \"gpt-4-32k-0314\",\n",
    "        \"gpt-4-0613\",\n",
    "        \"gpt-4-32k-0613\",\n",
    "        }:\n",
    "        tokens_per_message = 3\n",
    "        tokens_per_name = 1\n",
    "    elif model == \"gpt-3.5-turbo-0301\":\n",
    "        tokens_per_message = 4  # every message follows <|start|>{role/name}\\n{content}<|end|>\\n\n",
    "        tokens_per_name = -1  # if there's a name, the role is omitted\n",
    "    elif \"gpt-3.5-turbo\" in model:\n",
    "        print(\"Warning: gpt-3.5-turbo may update over time. Returning num tokens assuming gpt-3.5-turbo-0613.\")\n",
    "        return num_tokens_from_messages(messages, model=\"gpt-3.5-turbo-0613\")\n",
    "    elif \"gpt-4\" in model:\n",
    "        print(\"Warning: gpt-4 may update over time. Returning num tokens assuming gpt-4-0613.\")\n",
    "        return num_tokens_from_messages(messages, model=\"gpt-4-0613\")\n",
    "    else:\n",
    "        raise NotImplementedError(\n",
    "            f\"\"\"num_tokens_from_messages() is not implemented for model {model}. See https://github.com/openai/openai-python/blob/main/chatml.md for information on how messages are converted to tokens.\"\"\"\n",
    "        )\n",
    "    num_tokens = 0\n",
    "    for message in messages:\n",
    "        num_tokens += tokens_per_message\n",
    "        for key, value in message.items():\n",
    "            num_tokens += len(encoding.encode(value))\n",
    "            if key == \"name\":\n",
    "                num_tokens += tokens_per_name\n",
    "    num_tokens += 3  # every reply is primed with <|start|>assistant<|message|>\n",
    "    return num_tokens\n",
    "\n",
    "def max_tokens(model):\n",
    "    if 'gpt-3' in model:\n",
    "        if '16K' in model:\n",
    "            return 16384\n",
    "        else:\n",
    "            return 4096\n",
    "    elif 'gpt-4' in model:\n",
    "        if '32K' in model:\n",
    "            return 32768\n",
    "        else:\n",
    "            return 8192\n",
    "    else:\n",
    "        return -1\n",
    "\n",
    "messages = [\n",
    "    system_prompt_message,\n",
    "    book_details_message,\n",
    "    book_characters_message,\n",
    "    book_chapters_message\n",
    "]\n",
    "\n",
    "tokens_used = num_tokens_from_messages(messages, model=MODEL)\n",
    "max_tokens = max_tokens(MODEL)\n",
    "print(f'Tokens used: {tokens_used}, max tokens: {max_tokens}, remaining: {max_tokens - tokens_used}')"
   ]
  },
  {
   "attachments": {},
   "cell_type": "markdown",
   "metadata": {},
   "source": [
    "As long as this is below the limit, we are fine. The limit for GPT-3 is 4K, GPT-4 is 8K. This includes the tokens sent and received, hence why the maximum we can get per call is the maximum for the model minus what we send.\n",
    "We can now create the chapters. Let's loop through them and write the chapters out to different files"
   ]
  },
  {
   "cell_type": "code",
   "execution_count": 96,
   "metadata": {},
   "outputs": [
    {
     "name": "stdout",
     "output_type": "stream",
     "text": [
      "Wrote chapter 1 to First Synapse Strike\n",
      "Wrote chapter 2 to Metaphysical Mapping\n",
      "Wrote chapter 3 to Idea Inception\n",
      "Wrote chapter 4 to Quantum Quackery\n",
      "Wrote chapter 5 to Neural Nebulas\n",
      "Wrote chapter 6 to Eleanor's Enigma\n",
      "Wrote chapter 7 to Betrayal in the Brainwaves\n",
      "Wrote chapter 8 to Commander's Crisis\n",
      "Wrote chapter 9 to Memory Maze\n",
      "Wrote chapter 10 to Cranium's Courage\n",
      "Wrote chapter 11 to Synaptic Standoff\n",
      "Wrote chapter 12 to Ideal Inspiration\n",
      "Wrote chapter 13 to Cerebrum's Consultation\n",
      "Wrote chapter 14 to Cognitive Chaos\n",
      "Wrote chapter 15 to Synapse's Sacrifice\n",
      "Wrote chapter 16 to Eleanor's Exile\n",
      "Wrote chapter 17 to Mindful Mourning\n",
      "Wrote chapter 18 to Intellectual Innovation\n",
      "Wrote chapter 19 to Cerebral Celebration\n",
      "Wrote chapter 20 to Epilogue: Beyond the Brain's Horizon\n"
     ]
    }
   ],
   "source": [
    "# Create a directory for the book in the books directory\n",
    "\n",
    "# Create the books directory if it doesn't exist\n",
    "if not os.path.exists('./books'):\n",
    "    os.makedirs('./books')\n",
    "\n",
    "# Create a file for the book\n",
    "book_filename = f'./books/{book_title.replace(\" \", \"_\").replace(\":\", \"\")}.md'\n",
    "os.remove(book_filename)\n",
    "\n",
    "file = open(book_filename, 'w')\n",
    "\n",
    "file.write(f'# {book_title}')\n",
    "\n",
    "chapter_text = None\n",
    "\n",
    "# For each chapter, create a file with the chapter number and the chapter title\n",
    "chapter_num = 1\n",
    "for chapter in chapter_response:\n",
    "    file.write(f'\\n\\n## Chapter {chapter_num} - {chapter[\"chapter_name\"]}\\n\\n')\n",
    "\n",
    "    if chapter_text is not None:\n",
    "        chapter_message = { 'role': 'user', 'content': f\"Write chapter {chapter_num}. Don't include the chapter number or the chapter name. The previous chapter is ```{chapter_text}```\"}\n",
    "    else:\n",
    "        chapter_message = { 'role': 'user', 'content': f\"Write chapter {chapter_num}. Don't include the chapter number or the chapter name.\"}\n",
    "\n",
    "    messages = [\n",
    "        system_prompt_message,\n",
    "        book_details_message,\n",
    "        book_characters_message,\n",
    "        book_chapters_message,\n",
    "        chapter_message\n",
    "    ]\n",
    "    \n",
    "    chat_completion = openai.ChatCompletion.create(model=MODEL, messages=messages)\n",
    "    chapter_text = chat_completion.choices[0].message.content\n",
    "\n",
    "    file.write(chapter_text)\n",
    "    print(f'Wrote chapter {chapter_num} to {chapter[\"chapter_name\"]}')\n",
    "\n",
    "    file.flush()\n",
    "\n",
    "    chapter_num += 1"
   ]
  }
 ],
 "metadata": {
  "kernelspec": {
   "display_name": ".venv",
   "language": "python",
   "name": "python3"
  },
  "language_info": {
   "codemirror_mode": {
    "name": "ipython",
    "version": 3
   },
   "file_extension": ".py",
   "mimetype": "text/x-python",
   "name": "python",
   "nbconvert_exporter": "python",
   "pygments_lexer": "ipython3",
   "version": "3.10.11"
  },
  "orig_nbformat": 4
 },
 "nbformat": 4,
 "nbformat_minor": 2
}
